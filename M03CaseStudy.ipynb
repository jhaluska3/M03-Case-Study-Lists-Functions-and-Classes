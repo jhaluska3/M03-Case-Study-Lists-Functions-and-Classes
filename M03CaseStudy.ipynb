{
 "cells": [
  {
   "cell_type": "code",
   "execution_count": 61,
   "id": "6dc7c177",
   "metadata": {},
   "outputs": [
    {
     "name": "stdout",
     "output_type": "stream",
     "text": [
      "Enter Year: 2005\n",
      "Enter Make of Car: Toyota\n",
      "Enter Model: Prius\n",
      "Enter Number of Doors: 3\n",
      "Enter a valid number of doors.\n",
      "Enter Number of Doors: 2\n",
      "Enter Style of Roof (solid/sun roof)har\n",
      "Enter a valid style of roof.\n",
      "Enter Style of Roof (solid/sun roof)solid\n",
      "\n",
      "\n",
      "Vehicle Type:  car\n",
      "Year:  2003\n",
      "Make:  Toyota\n",
      "Model:  Prius\n",
      "Number of Doors:  2\n",
      "Type of roof:  solid\n"
     ]
    }
   ],
   "source": [
    "class Vehicle: #Super class to store vehicle type\n",
    "    def __init__(self, vehicleType):\n",
    "        self.vehicleType = vehicleType\n",
    "        \n",
    "class Automobile(Vehicle):#class that inherits info from super\n",
    "    def __init__(self, vehicleType, year,make, model, doors, roof): #Constructor in Automobile class\n",
    "        super().__init__(vehicleType)\n",
    "        self.year = year\n",
    "        self.make = make\n",
    "        self.model = model\n",
    "        self.doors = doors\n",
    "        self.roof = roof\n",
    "        \n",
    "userVehicle = Automobile( \"car\", year, make, model, doors, roof) #creates object from Automobile class        \n",
    "        \n",
    "year = input('Enter Year: ') #input for year\n",
    "make = input('Enter Make of Car: ') #input for make\n",
    "model = input('Enter Model: ') #input for model\n",
    "door = input('Enter Number of Doors: ') #input for number of doors, validates data will be 2 or 4\n",
    "while door not in ['2','4']:\n",
    "    print ('Enter a valid number of doors.')\n",
    "    door = input('Enter Number of Doors: ')\n",
    "roof = input('Enter Style of Roof (solid/sun roof)' ) #input for roof style, validates input\n",
    "while roof not in ['solid','sun roof']:\n",
    "    print ('Enter a valid style of roof.')\n",
    "    roof = input('Enter Style of Roof (solid/sun roof)' )\n",
    "\n",
    "print(\"\\n\")\n",
    "print(\"Vehicle Type: \", userVehicle.vehicleType) #outputs data for userVehicle from Automobile class\n",
    "print(\"Year: \", userVehicle.year) \n",
    "print(\"Make: \", userVehicle.make)\n",
    "print(\"Model: \",userVehicle.model)\n",
    "print(\"Number of Doors: \", userVehicle.doors)\n",
    "print(\"Type of roof: \", userVehicle.roof)\n",
    "    "
   ]
  },
  {
   "cell_type": "code",
   "execution_count": null,
   "id": "cb75f6c4",
   "metadata": {},
   "outputs": [],
   "source": []
  }
 ],
 "metadata": {
  "kernelspec": {
   "display_name": "Python 3 (ipykernel)",
   "language": "python",
   "name": "python3"
  },
  "language_info": {
   "codemirror_mode": {
    "name": "ipython",
    "version": 3
   },
   "file_extension": ".py",
   "mimetype": "text/x-python",
   "name": "python",
   "nbconvert_exporter": "python",
   "pygments_lexer": "ipython3",
   "version": "3.9.13"
  }
 },
 "nbformat": 4,
 "nbformat_minor": 5
}
